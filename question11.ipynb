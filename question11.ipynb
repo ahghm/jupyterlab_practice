{
 "cells": [
  {
   "cell_type": "markdown",
   "id": "6106215e-68c1-4229-8dd6-6ec05e8a352f",
   "metadata": {},
   "source": [
    "# Amir Mahani\n",
    "Notebook for assignment 7"
   ]
  },
  {
   "cell_type": "code",
   "execution_count": 1,
   "id": "795980ed-45d5-4083-b065-2bffd531b0b8",
   "metadata": {
    "tags": []
   },
   "outputs": [],
   "source": [
    "def compute_mean(my_list):\n",
    "    return sum(my_list) / len(my_list)"
   ]
  },
  {
   "cell_type": "code",
   "execution_count": 2,
   "id": "bf31e367-ab85-4596-8b87-2205ac7b0357",
   "metadata": {
    "tags": []
   },
   "outputs": [
    {
     "data": {
      "text/plain": [
       "5.0"
      ]
     },
     "execution_count": 2,
     "metadata": {},
     "output_type": "execute_result"
    }
   ],
   "source": [
    "compute_mean([2, 4, 6, 8])"
   ]
  },
  {
   "cell_type": "markdown",
   "id": "19782b02-5952-426e-8af5-a03d2031c38b",
   "metadata": {},
   "source": [
    "This code calculates the average of the numbers inside a list or $\\bar x$ based on the following formula:\n",
    "\n",
    "\\begin{align*}\n",
    "\\bar{x} & = \\frac{x_1 + x_2 + \\ldots + x_n}{n} = \\frac{1}{n} \\left( \\sum_{i=1}^{n} x_i \\right)\n",
    "\\end{align*}\n",
    "\n"
   ]
  },
  {
   "cell_type": "markdown",
   "id": "f000de65-deff-4f34-9294-12e78ecaf9a4",
   "metadata": {},
   "source": [
    "![screenshot-question_11_assignment_7](./image/screenshot-question_11_assignment_7.png)"
   ]
  },
  {
   "cell_type": "code",
   "execution_count": null,
   "id": "d570a597-53c6-4f2e-91a2-3449cdf25bcd",
   "metadata": {},
   "outputs": [],
   "source": []
  }
 ],
 "metadata": {
  "kernelspec": {
   "display_name": "Python 3 (ipykernel)",
   "language": "python",
   "name": "python3"
  },
  "language_info": {
   "codemirror_mode": {
    "name": "ipython",
    "version": 3
   },
   "file_extension": ".py",
   "mimetype": "text/x-python",
   "name": "python",
   "nbconvert_exporter": "python",
   "pygments_lexer": "ipython3",
   "version": "3.11.5"
  }
 },
 "nbformat": 4,
 "nbformat_minor": 5
}
