{
 "cells": [
  {
   "cell_type": "markdown",
   "id": "66e8eec3-4b88-4675-b217-69c87a11ad08",
   "metadata": {},
   "source": [
    "We are currently working in the following directory:"
   ]
  },
  {
   "cell_type": "code",
   "execution_count": 1,
   "id": "b7283ea8-2c23-4101-a357-2dc79d242d27",
   "metadata": {
    "tags": []
   },
   "outputs": [
    {
     "name": "stdout",
     "output_type": "stream",
     "text": [
      "/c/Users/amir.mahani/jupyterlab_practice\n"
     ]
    }
   ],
   "source": [
    "!pwd"
   ]
  },
  {
   "cell_type": "markdown",
   "id": "0e445f56-a7b1-4ae0-8014-6eb1a1173c0c",
   "metadata": {},
   "source": [
    "To time how long it takes to run a Python cell, we could use the timeit command inside a cell as is shown below: Followed by the proper use of the timeit command to time the following loop:\n",
    "```python\n",
    "for i in range(1_000_000):\n",
    "    i**2\n",
    "```"
   ]
  },
  {
   "cell_type": "code",
   "execution_count": 2,
   "id": "bc9a46cd-02f5-42e3-9179-dbb72e6ec23f",
   "metadata": {
    "tags": []
   },
   "outputs": [
    {
     "name": "stdout",
     "output_type": "stream",
     "text": [
      "48.5 ms ± 3.16 ms per loop (mean ± std. dev. of 7 runs, 10 loops each)\n"
     ]
    }
   ],
   "source": [
    "%%timeit\n",
    "for i in range(1_000_000):\n",
    "    i**2"
   ]
  },
  {
   "cell_type": "code",
   "execution_count": 3,
   "id": "e2535f5e-ca10-4d8d-83cc-a6477ce7d59c",
   "metadata": {
    "tags": []
   },
   "outputs": [
    {
     "name": "stderr",
     "output_type": "stream",
     "text": [
      "[NbConvertApp] WARNING | Config option `kernel_spec_manager_class` not recognized by `NbConvertApp`.\n",
      "[NbConvertApp] Converting notebook question12.ipynb to html\n",
      "[NbConvertApp] Writing 271049 bytes to output-filename.html\n"
     ]
    }
   ],
   "source": [
    "!jupyter nbconvert question12.ipynb \\\n",
    "    --to html \\\n",
    "    --output=output-filename.html \\\n",
    "    --no-input"
   ]
  },
  {
   "cell_type": "code",
   "execution_count": null,
   "id": "9d1cbd75-d1a8-4ada-8d10-f4c9c53159c5",
   "metadata": {},
   "outputs": [],
   "source": []
  }
 ],
 "metadata": {
  "kernelspec": {
   "display_name": "Python [conda env:root] *",
   "language": "python",
   "name": "conda-root-py"
  },
  "language_info": {
   "codemirror_mode": {
    "name": "ipython",
    "version": 3
   },
   "file_extension": ".py",
   "mimetype": "text/x-python",
   "name": "python",
   "nbconvert_exporter": "python",
   "pygments_lexer": "ipython3",
   "version": "3.11.5"
  }
 },
 "nbformat": 4,
 "nbformat_minor": 5
}
